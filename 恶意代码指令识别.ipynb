{
 "cells": [
  {
   "cell_type": "code",
   "execution_count": 52,
   "metadata": {},
   "outputs": [],
   "source": [
    "import pandas as pd\n",
    "import numpy as np\n",
    "from sklearn.feature_extraction.text import TfidfVectorizer\n",
    "from sklearn.feature_extraction.text import CountVectorizer\n",
    "import xgboost as xgb\n",
    "from sklearn import metrics\n",
    "from sklearn.model_selection import train_test_split\n",
    "from imblearn.under_sampling import EditedNearestNeighbours,RandomUnderSampler\n",
    "import imblearn"
   ]
  },
  {
   "cell_type": "markdown",
   "metadata": {},
   "source": [
    "## 1.数据获取、预处理"
   ]
  },
  {
   "cell_type": "code",
   "execution_count": 84,
   "metadata": {},
   "outputs": [],
   "source": [
    "from utils import *\n",
    "dataset = pd.read_csv(r\"C:\\Users\\jiangqi\\Desktop\\code_detect\\Detecting-Cyber-Attacks-Kaggle-Callenge-master\\data\\partial_labels2.csv\")\n",
    "x,segments = dataset.axes\n",
    "array = dataset.values    #array   50*100    每条  ‘user0’,0,0,^,1,0\n",
    "\n",
    "labels=[]\n",
    "for ele in array:\n",
    "    label=ele[1:]\n",
    "    labels.extend(label)\n",
    "\n",
    "arr_all=[]\n",
    "for testUser in range(0,50):  \n",
    "    name='User{}'.format((testUser+1))\n",
    "    z = np.reshape(array[testUser,1:],-1)    ##  100*1    (5001-15000,100)*1\n",
    "    Y_train = z[0:50]\n",
    "    Y_train = Y_train.astype(int)\n",
    "    \n",
    "    path_read = r\"C:\\Users\\jiangqi\\Desktop\\code_detect\\masquerade-data\\{}\".format(name)\n",
    "    instructions = pd.read_csv(path_read, sep=\" \", header=None)   ##该用户的commands    15000*1\n",
    "    arr = np.reshape(instructions.values,(150,100))               ##将15000*1 转置  150*100\n",
    "    arr_all.extend(arr[50:150])\n",
    "arr_all=np.array(arr_all)\n",
    "\n",
    "##处理   ''.join()\n",
    "\n",
    "x=[]\n",
    "for li  in arr_all:\n",
    "    s=' '.join(li)\n",
    "    x.append(s)\n",
    "# x=np.array(x)\n",
    "# labels=np.array(labels)"
   ]
  },
  {
   "cell_type": "code",
   "execution_count": 33,
   "metadata": {},
   "outputs": [
    {
     "data": {
      "text/plain": [
       "'java .java_wr expr expr dirname basename egrep egrep egrep egrep egrep java aacdec cat aiffplay sh aacdec cat aiffplay sh aacdec cat aiffplay sh netscape netscape netscape netscape netscape netscape netscape aacdec cat aiffplay sh netscape netscape netscape netscape netscape netscape netscape netscape netscape netscape netscape netscape netscape netscape netscape hostname id nawk getopt true grep date lp find mkdir expr generic cat file post awk cat post rm generic ln ln generic lp sh getpgrp LOCK true ls sed FIFO cat date generic generic date generic gethost download tcpostio tcpostio tcpostio tcpostio cat generic ls generic date generic rm'"
      ]
     },
     "execution_count": 33,
     "metadata": {},
     "output_type": "execute_result"
    }
   ],
   "source": [
    "x[0]"
   ]
  },
  {
   "cell_type": "code",
   "execution_count": 6,
   "metadata": {},
   "outputs": [
    {
     "data": {
      "text/plain": [
       "5000"
      ]
     },
     "execution_count": 6,
     "metadata": {},
     "output_type": "execute_result"
    }
   ],
   "source": [
    "len(labels)"
   ]
  },
  {
   "cell_type": "code",
   "execution_count": 8,
   "metadata": {},
   "outputs": [
    {
     "data": {
      "text/plain": [
       "5000"
      ]
     },
     "execution_count": 8,
     "metadata": {},
     "output_type": "execute_result"
    }
   ],
   "source": [
    "len(arr_all)"
   ]
  },
  {
   "cell_type": "code",
   "execution_count": 9,
   "metadata": {},
   "outputs": [],
   "source": [
    "x_train,x_test,y_train,y_test=train_test_split(x,labels,train_size=0.7)"
   ]
  },
  {
   "cell_type": "code",
   "execution_count": 35,
   "metadata": {},
   "outputs": [
    {
     "data": {
      "text/plain": [
       "0    1419\n",
       "1      81\n",
       "dtype: int64"
      ]
     },
     "execution_count": 35,
     "metadata": {},
     "output_type": "execute_result"
    }
   ],
   "source": [
    "pd.Series(y_test).value_counts()"
   ]
  },
  {
   "cell_type": "markdown",
   "metadata": {},
   "source": [
    "## 2.词向量化 "
   ]
  },
  {
   "cell_type": "code",
   "execution_count": 14,
   "metadata": {},
   "outputs": [
    {
     "data": {
      "text/plain": [
       "<3500x216 sparse matrix of type '<class 'numpy.float64'>'\n",
       "\twith 167243 stored elements in Compressed Sparse Row format>"
      ]
     },
     "execution_count": 14,
     "metadata": {},
     "output_type": "execute_result"
    }
   ],
   "source": [
    "vectorizer = TfidfVectorizer(min_df=0.1,ngram_range=(2,4))  \n",
    "vectorizer.fit_transform(x_train)"
   ]
  },
  {
   "cell_type": "code",
   "execution_count": 15,
   "metadata": {},
   "outputs": [],
   "source": [
    "x_train=vectorizer.transform(x_train)\n",
    "x_test=vectorizer.transform(x_test)"
   ]
  },
  {
   "cell_type": "markdown",
   "metadata": {},
   "source": [
    "## 3.分类预测"
   ]
  },
  {
   "cell_type": "markdown",
   "metadata": {},
   "source": [
    "### 3.1XGBClassifier分类结果 作为baseline"
   ]
  },
  {
   "cell_type": "code",
   "execution_count": 63,
   "metadata": {},
   "outputs": [
    {
     "name": "stdout",
     "output_type": "stream",
     "text": [
      "f1_score= 0.9722507708119219\n",
      "recall= 1.0\n",
      "precision= 0.946\n",
      "accuracy= 0.946\n",
      "混淆矩阵\n",
      " [[1419    0]\n",
      " [  81    0]]\n",
      "G-mean= 0.0\n"
     ]
    }
   ],
   "source": [
    "clf=xgb.XGBClassifier(random_state=42)\n",
    "clf.fit(x_train,y_train)\n",
    "pre=clf.predict(x_test)\n",
    "print('f1_score=',metrics.f1_score(y_test,pre,pos_label=0))\n",
    "print('recall=',metrics.recall_score(y_test,pre,pos_label=0))\n",
    "print('precision=',metrics.precision_score(y_test,pre,pos_label=0))\n",
    "print('accuracy=',metrics.accuracy_score(y_test,pre))\n",
    "print('混淆矩阵\\n',metrics.confusion_matrix(y_test,pre))\n",
    "print('G-mean=',imblearn.metrics.geometric_mean_score(y_test,pre,pos_label=0))"
   ]
  },
  {
   "cell_type": "markdown",
   "metadata": {},
   "source": [
    "### 3.2 调整样本权重  正样本：负样本=1：5"
   ]
  },
  {
   "cell_type": "code",
   "execution_count": 64,
   "metadata": {},
   "outputs": [
    {
     "name": "stdout",
     "output_type": "stream",
     "text": [
      "f1_score= 0.9722507708119219\n",
      "recall= 1.0\n",
      "precision= 0.946\n",
      "accuracy= 0.946\n",
      "混淆矩阵\n",
      " [[1419    0]\n",
      " [  81    0]]\n",
      "G-mean= 0.0\n"
     ]
    }
   ],
   "source": [
    "clf=xgb.XGBClassifier(scale_pos_weight=0.2,pos_label=0,random_state=42)\n",
    "clf.fit(x_train,y_train)\n",
    "pre=clf.predict(x_test)\n",
    "print('f1_score=',metrics.f1_score(y_test,pre,pos_label=0))\n",
    "print('recall=',metrics.recall_score(y_test,pre,pos_label=0))\n",
    "print('precision=',metrics.precision_score(y_test,pre,pos_label=0))\n",
    "print('accuracy=',metrics.accuracy_score(y_test,pre))\n",
    "print('混淆矩阵\\n',metrics.confusion_matrix(y_test,pre))\n",
    "print('G-mean=',imblearn.metrics.geometric_mean_score(y_test,pre,pos_label=0))"
   ]
  },
  {
   "cell_type": "markdown",
   "metadata": {},
   "source": [
    "### 3.3 欠采样处理   \n",
    "负样本/正样本=0.3（原比例为0.043） "
   ]
  },
  {
   "cell_type": "code",
   "execution_count": 65,
   "metadata": {},
   "outputs": [],
   "source": [
    "enn = RandomUnderSampler(0.3,random_state=0)    ##少数比多数 0.2\n",
    "X_resampled, y_resampled = enn.fit_sample(x_train, y_train)"
   ]
  },
  {
   "cell_type": "markdown",
   "metadata": {},
   "source": [
    "生成的新样本：正样本500例，负样本150例"
   ]
  },
  {
   "cell_type": "code",
   "execution_count": 66,
   "metadata": {},
   "outputs": [
    {
     "data": {
      "text/plain": [
       "0    500\n",
       "1    150\n",
       "dtype: int64"
      ]
     },
     "execution_count": 66,
     "metadata": {},
     "output_type": "execute_result"
    }
   ],
   "source": [
    "pd.Series(y_resampled).value_counts()    "
   ]
  },
  {
   "cell_type": "code",
   "execution_count": 67,
   "metadata": {},
   "outputs": [
    {
     "name": "stdout",
     "output_type": "stream",
     "text": [
      "f1_score= 0.9570680628272252\n",
      "recall= 0.9661733615221987\n",
      "precision= 0.9481327800829875\n",
      "accuracy= 0.918\n",
      "混淆矩阵\n",
      " [[1371   48]\n",
      " [  75    6]]\n",
      "G-mean= 0.2675227039893857\n"
     ]
    }
   ],
   "source": [
    "clf=xgb.XGBClassifier()\n",
    "clf.fit(X_resampled,y_resampled)\n",
    "pre=clf.predict(x_test)\n",
    "print('f1_score=',metrics.f1_score(y_test,pre,pos_label=0))\n",
    "print('recall=',metrics.recall_score(y_test,pre,pos_label=0))\n",
    "print('precision=',metrics.precision_score(y_test,pre,pos_label=0))\n",
    "print('accuracy=',metrics.accuracy_score(y_test,pre))\n",
    "print('混淆矩阵\\n',metrics.confusion_matrix(y_test,pre))\n",
    "print('G-mean=',imblearn.metrics.geometric_mean_score(y_test,pre,pos_label=0))"
   ]
  },
  {
   "cell_type": "markdown",
   "metadata": {},
   "source": [
    "### 3.4过采样处理\n",
    "处理后的负样本/正样本=0.6"
   ]
  },
  {
   "cell_type": "code",
   "execution_count": 79,
   "metadata": {},
   "outputs": [],
   "source": [
    "sm=SMOTE(sampling_strategy=0.6,random_state=0)\n",
    "X_resampled_smote, y_resampled_smote = sm.fit_sample(x_train, y_train)"
   ]
  },
  {
   "cell_type": "code",
   "execution_count": 80,
   "metadata": {},
   "outputs": [
    {
     "data": {
      "text/plain": [
       "0    3350\n",
       "1    2010\n",
       "dtype: int64"
      ]
     },
     "execution_count": 80,
     "metadata": {},
     "output_type": "execute_result"
    }
   ],
   "source": [
    "pd.Series(y_resampled_smote).value_counts()"
   ]
  },
  {
   "cell_type": "code",
   "execution_count": 81,
   "metadata": {},
   "outputs": [
    {
     "name": "stdout",
     "output_type": "stream",
     "text": [
      "0.956552207428171\n",
      "0.9619450317124736\n",
      "0.9512195121951219\n",
      "0.9173333333333333\n",
      "[[1365   54]\n",
      " [  70   11]]\n",
      "0.36143396420296714\n"
     ]
    }
   ],
   "source": [
    "clf=xgb.XGBClassifier()\n",
    "clf.fit(X_resampled_smote,y_resampled_smote)\n",
    "pre=clf.predict(x_test)\n",
    "print(metrics.f1_score(y_test,pre,pos_label=0))\n",
    "print(metrics.recall_score(y_test,pre,pos_label=0))\n",
    "print(metrics.precision_score(y_test,pre,pos_label=0))\n",
    "print(metrics.accuracy_score(y_test,pre))\n",
    "print(metrics.confusion_matrix(y_test,pre))\n",
    "print(imblearn.metrics.geometric_mean_score(y_test,pre,pos_label=0))"
   ]
  },
  {
   "cell_type": "markdown",
   "metadata": {},
   "source": [
    "## 4.进一步预处理"
   ]
  },
  {
   "cell_type": "markdown",
   "metadata": {},
   "source": [
    "- 过采样，欠采样比较粗糙。合理怀疑词向量化\n",
    "\n",
    "- linux 指令现实意义，ls  cd 可以作为停用词\n",
    "- 前后有联系，词向量  n-gram 增大\n",
    "- 使用RNN，LSTM "
   ]
  },
  {
   "cell_type": "code",
   "execution_count": 93,
   "metadata": {},
   "outputs": [
    {
     "data": {
      "text/plain": [
       "sh          43418\n",
       "netscape    21677\n",
       "generic     21659\n",
       "cat         21259\n",
       "ls          20059\n",
       "popper      17566\n",
       "date        15002\n",
       "sendmail    13518\n",
       "rm          11893\n",
       "sed         11139\n",
       "nawk        10526\n",
       "grep         9739\n",
       "expr         9511\n",
       "tcsh         8666\n",
       "tcpostio     7334\n",
       "true         6610\n",
       "ln           6534\n",
       "uname        6423\n",
       "hostname     6158\n",
       "gcc          5883\n",
       "dtype: int64"
      ]
     },
     "execution_count": 93,
     "metadata": {},
     "output_type": "execute_result"
    }
   ],
   "source": [
    "comds=np.reshape(np.array(arr_all),-1)\n",
    "pd.Series(comds).value_counts()[0:20]"
   ]
  },
  {
   "cell_type": "code",
   "execution_count": null,
   "metadata": {},
   "outputs": [],
   "source": [
    "2_grame cangyong "
   ]
  },
  {
   "cell_type": "code",
   "execution_count": 99,
   "metadata": {},
   "outputs": [
    {
     "data": {
      "text/plain": [
       "<1x216 sparse matrix of type '<class 'numpy.float64'>'\n",
       "\twith 66 stored elements in Compressed Sparse Row format>"
      ]
     },
     "execution_count": 99,
     "metadata": {},
     "output_type": "execute_result"
    }
   ],
   "source": [
    "x_train[0]"
   ]
  },
  {
   "cell_type": "code",
   "execution_count": 95,
   "metadata": {},
   "outputs": [],
   "source": [
    "from nltk.probability import FreqDist"
   ]
  },
  {
   "cell_type": "markdown",
   "metadata": {},
   "source": [
    "词集模型   \n",
    "- 词set（） 后转dict行为\n"
   ]
  },
  {
   "cell_type": "code",
   "execution_count": 56,
   "metadata": {},
   "outputs": [
    {
     "ename": "NameError",
     "evalue": "name 'FreqDist' is not defined",
     "output_type": "error",
     "traceback": [
      "\u001b[1;31m---------------------------------------------------------------------------\u001b[0m",
      "\u001b[1;31mNameError\u001b[0m                                 Traceback (most recent call last)",
      "\u001b[1;32m<ipython-input-56-35789f964eef>\u001b[0m in \u001b[0;36m<module>\u001b[1;34m\u001b[0m\n\u001b[1;32m----> 1\u001b[1;33m \u001b[0mfdist\u001b[0m \u001b[1;33m=\u001b[0m \u001b[0mFreqDist\u001b[0m\u001b[1;33m(\u001b[0m\u001b[0mx\u001b[0m\u001b[1;33m)\u001b[0m\u001b[1;33m.\u001b[0m\u001b[0mkeys\u001b[0m\u001b[1;33m(\u001b[0m\u001b[1;33m)\u001b[0m   \u001b[1;31m##set后\u001b[0m\u001b[1;33m\u001b[0m\u001b[1;33m\u001b[0m\u001b[0m\n\u001b[0m",
      "\u001b[1;31mNameError\u001b[0m: name 'FreqDist' is not defined"
     ]
    }
   ],
   "source": [
    "fdist = FreqDist(x).keys()   ##set后"
   ]
  },
  {
   "cell_type": "code",
   "execution_count": 116,
   "metadata": {},
   "outputs": [],
   "source": [
    "x=np.array(x)"
   ]
  },
  {
   "cell_type": "code",
   "execution_count": 119,
   "metadata": {},
   "outputs": [
    {
     "data": {
      "text/plain": [
       "4708"
      ]
     },
     "execution_count": 119,
     "metadata": {},
     "output_type": "execute_result"
    }
   ],
   "source": [
    "print(len(set(x)))\n",
    "print(len(fdist))"
   ]
  },
  {
   "cell_type": "code",
   "execution_count": 113,
   "metadata": {},
   "outputs": [],
   "source": [
    "def get_user_cmd_feature_new(user_cmd_list,dist):\n",
    "    user_cmd_feature=[]\n",
    "    for cmd_list in user_cmd_list:\n",
    "        s=[]\n",
    "        for cmd in  cmd_list:\n",
    "            v = [0] * len(dist)\n",
    "            for i in range(0, len(dist)):\n",
    "                if cmd == dist[i]:\n",
    "                    v[i] = 1\n",
    "            s.append(v)\n",
    "        user_cmd_feature.append(s)\n",
    "    return user_cmd_feature"
   ]
  },
  {
   "cell_type": "code",
   "execution_count": 124,
   "metadata": {},
   "outputs": [
    {
     "ename": "TypeError",
     "evalue": "'dict_keys' object is not subscriptable",
     "output_type": "error",
     "traceback": [
      "\u001b[1;31m---------------------------------------------------------------------------\u001b[0m",
      "\u001b[1;31mTypeError\u001b[0m                                 Traceback (most recent call last)",
      "\u001b[1;32m<ipython-input-124-e45a11cc6ccc>\u001b[0m in \u001b[0;36m<module>\u001b[1;34m\u001b[0m\n\u001b[1;32m----> 1\u001b[1;33m \u001b[0muser_cmd_feature\u001b[0m\u001b[1;33m=\u001b[0m\u001b[0mget_user_cmd_feature_new\u001b[0m\u001b[1;33m(\u001b[0m\u001b[0mx\u001b[0m\u001b[1;33m,\u001b[0m\u001b[0mfdist\u001b[0m\u001b[1;33m)\u001b[0m\u001b[1;33m\u001b[0m\u001b[1;33m\u001b[0m\u001b[0m\n\u001b[0m",
      "\u001b[1;32m<ipython-input-113-af51344aecd8>\u001b[0m in \u001b[0;36mget_user_cmd_feature_new\u001b[1;34m(user_cmd_list, dist)\u001b[0m\n\u001b[0;32m     13\u001b[0m             \u001b[1;32mfor\u001b[0m \u001b[0mi\u001b[0m \u001b[1;32min\u001b[0m \u001b[0mrange\u001b[0m\u001b[1;33m(\u001b[0m\u001b[1;36m0\u001b[0m\u001b[1;33m,\u001b[0m \u001b[0mlen\u001b[0m\u001b[1;33m(\u001b[0m\u001b[0mdist\u001b[0m\u001b[1;33m)\u001b[0m\u001b[1;33m)\u001b[0m\u001b[1;33m:\u001b[0m\u001b[1;33m\u001b[0m\u001b[1;33m\u001b[0m\u001b[0m\n\u001b[0;32m     14\u001b[0m \u001b[1;33m\u001b[0m\u001b[0m\n\u001b[1;32m---> 15\u001b[1;33m                 \u001b[1;32mif\u001b[0m \u001b[0mcmd\u001b[0m \u001b[1;33m==\u001b[0m \u001b[0mdist\u001b[0m\u001b[1;33m[\u001b[0m\u001b[0mi\u001b[0m\u001b[1;33m]\u001b[0m\u001b[1;33m:\u001b[0m\u001b[1;33m\u001b[0m\u001b[1;33m\u001b[0m\u001b[0m\n\u001b[0m\u001b[0;32m     16\u001b[0m \u001b[1;33m\u001b[0m\u001b[0m\n\u001b[0;32m     17\u001b[0m                     \u001b[0mv\u001b[0m\u001b[1;33m[\u001b[0m\u001b[0mi\u001b[0m\u001b[1;33m]\u001b[0m \u001b[1;33m=\u001b[0m \u001b[1;36m1\u001b[0m\u001b[1;33m\u001b[0m\u001b[1;33m\u001b[0m\u001b[0m\n",
      "\u001b[1;31mTypeError\u001b[0m: 'dict_keys' object is not subscriptable"
     ]
    }
   ],
   "source": [
    "user_cmd_feature=get_user_cmd_feature_new(x,fdist)"
   ]
  }
 ],
 "metadata": {
  "kernelspec": {
   "display_name": "Python 3",
   "language": "python",
   "name": "python3"
  },
  "language_info": {
   "codemirror_mode": {
    "name": "ipython",
    "version": 3
   },
   "file_extension": ".py",
   "mimetype": "text/x-python",
   "name": "python",
   "nbconvert_exporter": "python",
   "pygments_lexer": "ipython3",
   "version": "3.7.3"
  }
 },
 "nbformat": 4,
 "nbformat_minor": 2
}
